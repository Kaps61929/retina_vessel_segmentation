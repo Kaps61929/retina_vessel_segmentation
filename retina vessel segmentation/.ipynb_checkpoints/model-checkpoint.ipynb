{
 "cells": [
  {
   "cell_type": "code",
   "execution_count": 13,
   "id": "03ff7462",
   "metadata": {
    "scrolled": true
   },
   "outputs": [],
   "source": [
    "import torch\n",
    "import torch.nn as nn"
   ]
  },
  {
   "cell_type": "code",
   "execution_count": 11,
   "id": "086434b7",
   "metadata": {},
   "outputs": [
    {
     "ename": "SyntaxError",
     "evalue": "invalid syntax (Temp/ipykernel_27200/2110811436.py, line 1)",
     "output_type": "error",
     "traceback": [
      "\u001b[1;36m  File \u001b[1;32m\"C:\\Users\\krish\\AppData\\Local\\Temp/ipykernel_27200/2110811436.py\"\u001b[1;36m, line \u001b[1;32m1\u001b[0m\n\u001b[1;33m    conda update -n base -c defaults conda\u001b[0m\n\u001b[1;37m          ^\u001b[0m\n\u001b[1;31mSyntaxError\u001b[0m\u001b[1;31m:\u001b[0m invalid syntax\n"
     ]
    }
   ],
   "source": [
    "conda install pytorch torchvision cpuonly -c pytorch\n"
   ]
  },
  {
   "cell_type": "code",
   "execution_count": 6,
   "id": "c7e0c66a",
   "metadata": {},
   "outputs": [
    {
     "name": "stdout",
     "output_type": "stream",
     "text": [
      "Requirement already satisfied: typing-extensions in c:\\users\\krish\\anaconda3\\lib\\site-packages (3.10.0.2)Note: you may need to restart the kernel to use updated packages.\n",
      "\n",
      "Collecting typing-extensions\n",
      "  Downloading typing_extensions-4.8.0-py3-none-any.whl (31 kB)\n",
      "Installing collected packages: typing-extensions\n",
      "  Attempting uninstall: typing-extensions\n",
      "    Found existing installation: typing-extensions 3.10.0.2\n",
      "    Uninstalling typing-extensions-3.10.0.2:\n",
      "      Successfully uninstalled typing-extensions-3.10.0.2\n",
      "Successfully installed typing-extensions-4.8.0\n"
     ]
    }
   ],
   "source": [
    "pip install --upgrade typing-extensions\n"
   ]
  },
  {
   "cell_type": "code",
   "execution_count": 14,
   "id": "4591a814",
   "metadata": {},
   "outputs": [],
   "source": [
    "class conv_block(nn.Module):\n",
    "    def __init__(self, in_c, out_c):\n",
    "        super().__init__()\n",
    "\n",
    "        self.conv = nn.Sequential(\n",
    "            nn.Conv2d(in_c, out_c, kernel_size=3, padding=1),\n",
    "            nn.BatchNorm2d(out_c),\n",
    "            nn.ReLU(inplace=True),\n",
    "            nn.Conv2d(out_c, out_c, kernel_size=3, padding=1),\n",
    "            nn.BatchNorm2d(out_c),\n",
    "            nn.ReLU(inplace=True)\n",
    "        )\n",
    "\n",
    "    def forward(self, x):\n",
    "        return self.conv(x)\n",
    "    "
   ]
  },
  {
   "cell_type": "code",
   "execution_count": 15,
   "id": "8b04dc3a",
   "metadata": {},
   "outputs": [],
   "source": [
    "class encoder_block(nn.Module):\n",
    "    def __init__(self, in_c, out_c):\n",
    "        super().__init__()\n",
    "\n",
    "        self.conv = conv_block(in_c, out_c)\n",
    "        self.pool = nn.MaxPool2d((2, 2))\n",
    "\n",
    "    def forward(self, x):\n",
    "        s = self.conv(x)\n",
    "        p = self.pool(s)\n",
    "        return s, p\n"
   ]
  },
  {
   "cell_type": "code",
   "execution_count": 16,
   "id": "05ec5ef6",
   "metadata": {},
   "outputs": [],
   "source": [
    "class attention_gate(nn.Module):\n",
    "    def __init__(self, in_c, out_c):\n",
    "        super().__init__()\n",
    "\n",
    "        self.Wg = nn.Sequential(\n",
    "            nn.Conv2d(in_c[0], out_c, kernel_size=1, padding=0),\n",
    "            nn.BatchNorm2d(out_c)\n",
    "        )\n",
    "        self.Ws = nn.Sequential(\n",
    "            nn.Conv2d(in_c[1], out_c, kernel_size=1, padding=0),\n",
    "            nn.BatchNorm2d(out_c)\n",
    "        )\n",
    "         self.Wv = nn.Sequential(\n",
    "            nn.Conv2d(in_c[0]+in_c[1], out_c, kernel_size=1, padding=0),\n",
    "            nn.BatchNorm2d(out_c)\n",
    "        )\n",
    "        self.up = nn.Upsample(scale_factor=2, mode=\"bilinear\", align_corners=True)\n",
    "        self.relu = nn.ReLU(inplace=True)\n",
    "        self.output = nn.Sequential(\n",
    "            nn.Conv2d(out_c, out_c, kernel_size=1, padding=0),\n",
    "            nn.Softmax()\n",
    "        )\n",
    "\n",
    "    def forward(self, g, s):\n",
    "        k = self.Wg(g)\n",
    "        q = self.Ws(s)\n",
    "        k=self.up(g)\n",
    "        q = self.up(q)\n",
    "        out = self.relu(k*q)\n",
    "        \n",
    "        out = self.output(out)\n",
    "        x=self.up(x)\n",
    "        v = torch.cat([in_c[0],in_c[1]], axis=1)\n",
    "        v1=  self.Wv(v)\n",
    "        \n",
    "        x=v1*out\n",
    "        \n",
    "        \n",
    "        return out\n"
   ]
  },
  {
   "cell_type": "code",
   "execution_count": 17,
   "id": "e3de190a",
   "metadata": {},
   "outputs": [],
   "source": [
    "class decoder_block(nn.Module):\n",
    "    def __init__(self, in_c, out_c):\n",
    "        super().__init__()\n",
    "\n",
    "        self.up = nn.Upsample(scale_factor=2, mode=\"bilinear\", align_corners=True)\n",
    "        self.ag = attention_gate(in_c, out_c)\n",
    "        self.c1 = conv_block(in_c[0]+out_c, out_c)\n",
    "\n",
    "    def forward(self, x, s):\n",
    "        x = self.up(x)\n",
    "        s = self.ag(x, s)\n",
    "        x = torch.cat([x, s], axis=1)\n",
    "        x = self.c1(x)\n",
    "        return x\n"
   ]
  },
  {
   "cell_type": "code",
   "execution_count": null,
   "id": "035bc7df",
   "metadata": {},
   "outputs": [],
   "source": [
    "class attention_unet(nn.Module):\n",
    "    def __init__(self):\n",
    "        super().__init__()\n",
    "\n",
    "        self.e1 = encoder_block(3, 64)\n",
    "        self.e2 = encoder_block(64, 128)\n",
    "        self.e3 = encoder_block(128, 256)\n",
    "\n",
    "        self.b1 = conv_block(256, 512)\n",
    "\n",
    "        self.d1 = decoder_block([512, 256], 256)\n",
    "        self.d2 = decoder_block([256, 128], 128)\n",
    "        self.d3 = decoder_block([128, 64], 64)\n",
    "\n",
    "        self.output = nn.Conv2d(64, 1, kernel_size=1, padding=0)\n",
    "\n",
    "    def forward(self, x):\n",
    "        s1, p1 = self.e1(x)\n",
    "        s2, p2 = self.e2(p1)\n",
    "        s3, p3 = self.e3(p2)\n",
    "\n",
    "        b1 = self.b1(p3)\n",
    "\n",
    "        d1 = self.d1(b1, s3)\n",
    "        d2 = self.d2(d1, s2)\n",
    "        d3 = self.d3(d2, s1)\n",
    "\n",
    "        output = self.output(d3)\n",
    "        return output\n"
   ]
  }
 ],
 "metadata": {
  "kernelspec": {
   "display_name": "Python 3 (ipykernel)",
   "language": "python",
   "name": "python3"
  },
  "language_info": {
   "codemirror_mode": {
    "name": "ipython",
    "version": 3
   },
   "file_extension": ".py",
   "mimetype": "text/x-python",
   "name": "python",
   "nbconvert_exporter": "python",
   "pygments_lexer": "ipython3",
   "version": "3.9.7"
  }
 },
 "nbformat": 4,
 "nbformat_minor": 5
}
