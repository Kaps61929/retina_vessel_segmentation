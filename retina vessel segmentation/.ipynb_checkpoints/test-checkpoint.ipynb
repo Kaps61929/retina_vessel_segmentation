{
 "cells": [
  {
   "cell_type": "code",
   "execution_count": 1,
   "id": "c35d9682",
   "metadata": {},
   "outputs": [
    {
     "name": "stdout",
     "output_type": "stream",
     "text": [
      "['D:\\\\deeplearning_project\\\\retina vessel segmentation', 'C:\\\\Users\\\\krish\\\\anaconda3\\\\python39.zip', 'C:\\\\Users\\\\krish\\\\anaconda3\\\\DLLs', 'C:\\\\Users\\\\krish\\\\anaconda3\\\\lib', 'C:\\\\Users\\\\krish\\\\anaconda3', '', 'C:\\\\Users\\\\krish\\\\anaconda3\\\\lib\\\\site-packages', 'C:\\\\Users\\\\krish\\\\anaconda3\\\\lib\\\\site-packages\\\\locket-0.2.1-py3.9.egg', 'C:\\\\Users\\\\krish\\\\anaconda3\\\\lib\\\\site-packages\\\\win32', 'C:\\\\Users\\\\krish\\\\anaconda3\\\\lib\\\\site-packages\\\\win32\\\\lib', 'C:\\\\Users\\\\krish\\\\anaconda3\\\\lib\\\\site-packages\\\\Pythonwin', 'C:\\\\Users\\\\krish\\\\anaconda3\\\\lib\\\\site-packages\\\\IPython\\\\extensions', 'C:\\\\Users\\\\krish\\\\.ipython']\n",
      "torch.Size([8, 64, 128, 128])\n",
      "torch.Size([8, 64, 128, 128])\n",
      "torch.Size([8, 32, 256, 256])\n",
      "torch.Size([8, 32, 256, 256])\n",
      "torch.Size([8, 1, 256, 256])\n"
     ]
    },
    {
     "name": "stderr",
     "output_type": "stream",
     "text": [
      "\r",
      "  0%|                                                                                           | 0/20 [00:00<?, ?it/s]"
     ]
    },
    {
     "name": "stdout",
     "output_type": "stream",
     "text": [
      "torch.Size([1, 64, 256, 256])\n",
      "torch.Size([1, 64, 256, 256])\n",
      "torch.Size([1, 32, 512, 512])\n",
      "torch.Size([1, 32, 512, 512])\n"
     ]
    },
    {
     "name": "stderr",
     "output_type": "stream",
     "text": [
      "\r",
      "  5%|████▏                                                                              | 1/20 [00:03<00:59,  3.13s/it]"
     ]
    },
    {
     "name": "stdout",
     "output_type": "stream",
     "text": [
      "Saving image to: D:\\deeplearning_project\\retina vessel segmentation\\results\\image\\0.png\n",
      "Image saved successfully!\n",
      "torch.Size([1, 64, 256, 256])\n",
      "torch.Size([1, 64, 256, 256])\n",
      "torch.Size([1, 32, 512, 512])\n",
      "torch.Size([1, 32, 512, 512])\n"
     ]
    },
    {
     "name": "stderr",
     "output_type": "stream",
     "text": [
      "\r",
      " 10%|████████▎                                                                          | 2/20 [00:05<00:53,  2.97s/it]"
     ]
    },
    {
     "name": "stdout",
     "output_type": "stream",
     "text": [
      "Saving image to: D:\\deeplearning_project\\retina vessel segmentation\\results\\image\\1.png\n",
      "Image saved successfully!\n",
      "torch.Size([1, 64, 256, 256])\n",
      "torch.Size([1, 64, 256, 256])\n",
      "torch.Size([1, 32, 512, 512])\n",
      "torch.Size([1, 32, 512, 512])\n"
     ]
    },
    {
     "name": "stderr",
     "output_type": "stream",
     "text": [
      "\r",
      " 15%|████████████▍                                                                      | 3/20 [00:08<00:49,  2.94s/it]"
     ]
    },
    {
     "name": "stdout",
     "output_type": "stream",
     "text": [
      "Saving image to: D:\\deeplearning_project\\retina vessel segmentation\\results\\image\\10.png\n",
      "Image saved successfully!\n",
      "torch.Size([1, 64, 256, 256])\n",
      "torch.Size([1, 64, 256, 256])\n",
      "torch.Size([1, 32, 512, 512])\n",
      "torch.Size([1, 32, 512, 512])\n"
     ]
    },
    {
     "name": "stderr",
     "output_type": "stream",
     "text": [
      "\r",
      " 20%|████████████████▌                                                                  | 4/20 [00:11<00:46,  2.91s/it]"
     ]
    },
    {
     "name": "stdout",
     "output_type": "stream",
     "text": [
      "Saving image to: D:\\deeplearning_project\\retina vessel segmentation\\results\\image\\11.png\n",
      "Image saved successfully!\n",
      "torch.Size([1, 64, 256, 256])\n",
      "torch.Size([1, 64, 256, 256])\n",
      "torch.Size([1, 32, 512, 512])\n",
      "torch.Size([1, 32, 512, 512])\n"
     ]
    },
    {
     "name": "stderr",
     "output_type": "stream",
     "text": [
      "\r",
      " 25%|████████████████████▊                                                              | 5/20 [00:14<00:43,  2.92s/it]"
     ]
    },
    {
     "name": "stdout",
     "output_type": "stream",
     "text": [
      "Saving image to: D:\\deeplearning_project\\retina vessel segmentation\\results\\image\\12.png\n",
      "Image saved successfully!\n",
      "torch.Size([1, 64, 256, 256])\n",
      "torch.Size([1, 64, 256, 256])\n",
      "torch.Size([1, 32, 512, 512])\n",
      "torch.Size([1, 32, 512, 512])\n"
     ]
    },
    {
     "name": "stderr",
     "output_type": "stream",
     "text": [
      "\r",
      " 30%|████████████████████████▉                                                          | 6/20 [00:17<00:40,  2.91s/it]"
     ]
    },
    {
     "name": "stdout",
     "output_type": "stream",
     "text": [
      "Saving image to: D:\\deeplearning_project\\retina vessel segmentation\\results\\image\\13.png\n",
      "Image saved successfully!\n",
      "torch.Size([1, 64, 256, 256])\n",
      "torch.Size([1, 64, 256, 256])\n",
      "torch.Size([1, 32, 512, 512])\n",
      "torch.Size([1, 32, 512, 512])\n"
     ]
    },
    {
     "name": "stderr",
     "output_type": "stream",
     "text": [
      "\r",
      " 35%|█████████████████████████████                                                      | 7/20 [00:20<00:37,  2.92s/it]"
     ]
    },
    {
     "name": "stdout",
     "output_type": "stream",
     "text": [
      "Saving image to: D:\\deeplearning_project\\retina vessel segmentation\\results\\image\\14.png\n",
      "Image saved successfully!\n",
      "torch.Size([1, 64, 256, 256])\n",
      "torch.Size([1, 64, 256, 256])\n",
      "torch.Size([1, 32, 512, 512])\n",
      "torch.Size([1, 32, 512, 512])\n"
     ]
    },
    {
     "name": "stderr",
     "output_type": "stream",
     "text": [
      "\r",
      " 40%|█████████████████████████████████▏                                                 | 8/20 [00:23<00:34,  2.91s/it]"
     ]
    },
    {
     "name": "stdout",
     "output_type": "stream",
     "text": [
      "Saving image to: D:\\deeplearning_project\\retina vessel segmentation\\results\\image\\15.png\n",
      "Image saved successfully!\n",
      "torch.Size([1, 64, 256, 256])\n",
      "torch.Size([1, 64, 256, 256])\n",
      "torch.Size([1, 32, 512, 512])\n",
      "torch.Size([1, 32, 512, 512])\n"
     ]
    },
    {
     "name": "stderr",
     "output_type": "stream",
     "text": [
      "\r",
      " 45%|█████████████████████████████████████▎                                             | 9/20 [00:26<00:31,  2.87s/it]"
     ]
    },
    {
     "name": "stdout",
     "output_type": "stream",
     "text": [
      "Saving image to: D:\\deeplearning_project\\retina vessel segmentation\\results\\image\\16.png\n",
      "Image saved successfully!\n",
      "torch.Size([1, 64, 256, 256])\n",
      "torch.Size([1, 64, 256, 256])\n",
      "torch.Size([1, 32, 512, 512])\n",
      "torch.Size([1, 32, 512, 512])\n"
     ]
    },
    {
     "name": "stderr",
     "output_type": "stream",
     "text": [
      "\r",
      " 50%|█████████████████████████████████████████                                         | 10/20 [00:29<00:28,  2.86s/it]"
     ]
    },
    {
     "name": "stdout",
     "output_type": "stream",
     "text": [
      "Saving image to: D:\\deeplearning_project\\retina vessel segmentation\\results\\image\\17.png\n",
      "Image saved successfully!\n",
      "torch.Size([1, 64, 256, 256])\n",
      "torch.Size([1, 64, 256, 256])\n",
      "torch.Size([1, 32, 512, 512])\n",
      "torch.Size([1, 32, 512, 512])\n"
     ]
    },
    {
     "name": "stderr",
     "output_type": "stream",
     "text": [
      "\r",
      " 55%|█████████████████████████████████████████████                                     | 11/20 [00:32<00:26,  2.94s/it]"
     ]
    },
    {
     "name": "stdout",
     "output_type": "stream",
     "text": [
      "Saving image to: D:\\deeplearning_project\\retina vessel segmentation\\results\\image\\18.png\n",
      "Image saved successfully!\n",
      "torch.Size([1, 64, 256, 256])\n",
      "torch.Size([1, 64, 256, 256])\n",
      "torch.Size([1, 32, 512, 512])\n",
      "torch.Size([1, 32, 512, 512])\n"
     ]
    },
    {
     "name": "stderr",
     "output_type": "stream",
     "text": [
      "\r",
      " 60%|█████████████████████████████████████████████████▏                                | 12/20 [00:35<00:23,  2.98s/it]"
     ]
    },
    {
     "name": "stdout",
     "output_type": "stream",
     "text": [
      "Saving image to: D:\\deeplearning_project\\retina vessel segmentation\\results\\image\\19.png\n",
      "Image saved successfully!\n",
      "torch.Size([1, 64, 256, 256])\n",
      "torch.Size([1, 64, 256, 256])\n",
      "torch.Size([1, 32, 512, 512])\n",
      "torch.Size([1, 32, 512, 512])\n"
     ]
    },
    {
     "name": "stderr",
     "output_type": "stream",
     "text": [
      "\r",
      " 65%|█████████████████████████████████████████████████████▎                            | 13/20 [00:38<00:20,  2.98s/it]"
     ]
    },
    {
     "name": "stdout",
     "output_type": "stream",
     "text": [
      "Saving image to: D:\\deeplearning_project\\retina vessel segmentation\\results\\image\\2.png\n",
      "Image saved successfully!\n",
      "torch.Size([1, 64, 256, 256])\n",
      "torch.Size([1, 64, 256, 256])\n",
      "torch.Size([1, 32, 512, 512])\n",
      "torch.Size([1, 32, 512, 512])\n"
     ]
    },
    {
     "name": "stderr",
     "output_type": "stream",
     "text": [
      "\r",
      " 70%|█████████████████████████████████████████████████████████▍                        | 14/20 [00:41<00:18,  3.01s/it]"
     ]
    },
    {
     "name": "stdout",
     "output_type": "stream",
     "text": [
      "Saving image to: D:\\deeplearning_project\\retina vessel segmentation\\results\\image\\3.png\n",
      "Image saved successfully!\n",
      "torch.Size([1, 64, 256, 256])\n",
      "torch.Size([1, 64, 256, 256])\n",
      "torch.Size([1, 32, 512, 512])\n",
      "torch.Size([1, 32, 512, 512])\n"
     ]
    },
    {
     "name": "stderr",
     "output_type": "stream",
     "text": [
      "\r",
      " 75%|█████████████████████████████████████████████████████████████▌                    | 15/20 [00:44<00:14,  2.96s/it]"
     ]
    },
    {
     "name": "stdout",
     "output_type": "stream",
     "text": [
      "Saving image to: D:\\deeplearning_project\\retina vessel segmentation\\results\\image\\4.png\n",
      "Image saved successfully!\n",
      "torch.Size([1, 64, 256, 256])\n",
      "torch.Size([1, 64, 256, 256])\n",
      "torch.Size([1, 32, 512, 512])\n",
      "torch.Size([1, 32, 512, 512])\n"
     ]
    },
    {
     "name": "stderr",
     "output_type": "stream",
     "text": [
      "\r",
      " 80%|█████████████████████████████████████████████████████████████████▌                | 16/20 [00:46<00:11,  2.87s/it]"
     ]
    },
    {
     "name": "stdout",
     "output_type": "stream",
     "text": [
      "Saving image to: D:\\deeplearning_project\\retina vessel segmentation\\results\\image\\5.png\n",
      "Image saved successfully!\n",
      "torch.Size([1, 64, 256, 256])\n",
      "torch.Size([1, 64, 256, 256])\n",
      "torch.Size([1, 32, 512, 512])\n",
      "torch.Size([1, 32, 512, 512])\n"
     ]
    },
    {
     "name": "stderr",
     "output_type": "stream",
     "text": [
      "\r",
      " 85%|█████████████████████████████████████████████████████████████████████▋            | 17/20 [00:49<00:08,  2.81s/it]"
     ]
    },
    {
     "name": "stdout",
     "output_type": "stream",
     "text": [
      "Saving image to: D:\\deeplearning_project\\retina vessel segmentation\\results\\image\\6.png\n",
      "Image saved successfully!\n",
      "torch.Size([1, 64, 256, 256])\n",
      "torch.Size([1, 64, 256, 256])\n",
      "torch.Size([1, 32, 512, 512])\n",
      "torch.Size([1, 32, 512, 512])\n"
     ]
    },
    {
     "name": "stderr",
     "output_type": "stream",
     "text": [
      "\r",
      " 90%|█████████████████████████████████████████████████████████████████████████▊        | 18/20 [00:52<00:05,  2.80s/it]"
     ]
    },
    {
     "name": "stdout",
     "output_type": "stream",
     "text": [
      "Saving image to: D:\\deeplearning_project\\retina vessel segmentation\\results\\image\\7.png\n",
      "Image saved successfully!\n",
      "torch.Size([1, 64, 256, 256])\n",
      "torch.Size([1, 64, 256, 256])\n",
      "torch.Size([1, 32, 512, 512])\n",
      "torch.Size([1, 32, 512, 512])\n"
     ]
    },
    {
     "name": "stderr",
     "output_type": "stream",
     "text": [
      "\r",
      " 95%|█████████████████████████████████████████████████████████████████████████████▉    | 19/20 [00:54<00:02,  2.74s/it]"
     ]
    },
    {
     "name": "stdout",
     "output_type": "stream",
     "text": [
      "Saving image to: D:\\deeplearning_project\\retina vessel segmentation\\results\\image\\8.png\n",
      "Image saved successfully!\n",
      "torch.Size([1, 64, 256, 256])\n",
      "torch.Size([1, 64, 256, 256])\n",
      "torch.Size([1, 32, 512, 512])\n",
      "torch.Size([1, 32, 512, 512])\n"
     ]
    },
    {
     "name": "stderr",
     "output_type": "stream",
     "text": [
      "100%|██████████████████████████████████████████████████████████████████████████████████| 20/20 [00:57<00:00,  2.89s/it]"
     ]
    },
    {
     "name": "stdout",
     "output_type": "stream",
     "text": [
      "Saving image to: D:\\deeplearning_project\\retina vessel segmentation\\results\\image\\9.png\n",
      "Image saved successfully!\n",
      "Jaccard: 0.6297 - F1: 0.7718 - Recall: 0.7356 - Precision: 0.8228 - Acc: 0.9625\n",
      "FPS:  0.4344287686881136\n"
     ]
    },
    {
     "name": "stderr",
     "output_type": "stream",
     "text": [
      "\n"
     ]
    }
   ],
   "source": [
    "\n",
    "%run ./data.ipynb\n",
    "%run ./model.ipynb\n",
    "%run ./loss.ipynb\n",
    "%run ./utils.ipynb\n",
    "\n",
    "import os, time\n",
    "from operator import add\n",
    "import numpy as np\n",
    "from glob import glob\n",
    "import cv2\n",
    "from tqdm import tqdm\n",
    "import imageio\n",
    "import torch\n",
    "from sklearn.metrics import accuracy_score, f1_score, jaccard_score, precision_score, recall_score\n",
    "\n",
    "\n",
    "\n",
    "def calculate_metrics(y_true, y_pred):\n",
    "    \"\"\" Ground truth \"\"\"\n",
    "    y_true = y_true.cpu().numpy()\n",
    "    y_true = y_true > 0.5\n",
    "    y_true = y_true.astype(np.uint8)\n",
    "    y_true = y_true.reshape(-1)\n",
    "\n",
    "    \"\"\" Prediction \"\"\"\n",
    "    y_pred = y_pred.cpu().numpy()\n",
    "    y_pred = y_pred > 0.5\n",
    "    y_pred = y_pred.astype(np.uint8)\n",
    "    y_pred = y_pred.reshape(-1)\n",
    "\n",
    "    score_jaccard = jaccard_score(y_true, y_pred)\n",
    "    score_f1 = f1_score(y_true, y_pred)\n",
    "    score_recall = recall_score(y_true, y_pred)\n",
    "    score_precision = precision_score(y_true, y_pred)\n",
    "    score_acc = accuracy_score(y_true, y_pred)\n",
    "\n",
    "    return [score_jaccard, score_f1, score_recall, score_precision, score_acc]\n",
    "\n",
    "def mask_parse(mask):\n",
    "    mask = np.expand_dims(mask, axis=-1)    ## (512, 512, 1)\n",
    "    mask = np.concatenate([mask, mask, mask], axis=-1)  ## (512, 512, 3)\n",
    "    return mask\n",
    "\n",
    "if __name__ == \"__main__\":\n",
    "    \"\"\" Seeding \"\"\"\n",
    "    seeding(42)\n",
    "\n",
    "    \"\"\" Folders \"\"\"\n",
    "    create_dir(\"results\")\n",
    "\n",
    "    \"\"\" Load dataset \"\"\"\n",
    "    test_x = sorted(glob(\"./Data1/test/image/*\"))\n",
    "    test_y = sorted(glob(\"./Data1/test/mask/*\"))\n",
    "\n",
    "    \"\"\" Hyperparameters \"\"\"\n",
    "    H = 512\n",
    "    W = 512\n",
    "    size = (W, H)\n",
    "    checkpoint_path = \"files/checkpoint.pth\"\n",
    "\n",
    "    \"\"\" Load the checkpoint \"\"\"\n",
    "    device = torch.device('cuda' if torch.cuda.is_available() else 'cpu')\n",
    "\n",
    "    model = attention_unet().to(device)\n",
    "    \n",
    "    model.load_state_dict(torch.load(checkpoint_path, map_location=device))\n",
    "    model.eval()\n",
    "\n",
    "    metrics_score = [0.0, 0.0, 0.0, 0.0, 0.0]\n",
    "    time_taken = []\n",
    "\n",
    "    for i, (x, y) in tqdm(enumerate(zip(test_x, test_y)), total=len(test_x)):\n",
    "        \"\"\" Extract the name \"\"\"\n",
    "        name = x.split(\"/\")[-1].split(\".\")[0]\n",
    "\n",
    "        \"\"\" Reading image \"\"\"\n",
    "        image = cv2.imread(x, cv2.IMREAD_COLOR) ## (512, 512, 3)\n",
    "        ## image = cv2.resize(image, size)\n",
    "        x = np.transpose(image, (2, 0, 1))      ## (3, 512, 512)\n",
    "        x = x/255.0\n",
    "        x = np.expand_dims(x, axis=0)           ## (1, 3, 512, 512)\n",
    "        x = x.astype(np.float32)\n",
    "        x = torch.from_numpy(x)\n",
    "        x = x.to(device)\n",
    "\n",
    "        \"\"\" Reading mask \"\"\"\n",
    "        mask = cv2.imread(y, cv2.IMREAD_GRAYSCALE)  ## (512, 512)\n",
    "        ## mask = cv2.resize(mask, size)\n",
    "        y = np.expand_dims(mask, axis=0)            ## (1, 512, 512)\n",
    "        y = y/255.0\n",
    "        y = np.expand_dims(y, axis=0)               ## (1, 1, 512, 512)\n",
    "        y = y.astype(np.float32)\n",
    "        y = torch.from_numpy(y)\n",
    "        y = y.to(device)\n",
    "\n",
    "        with torch.no_grad():\n",
    "            \"\"\" Prediction and Calculating FPS \"\"\"\n",
    "            start_time = time.time()\n",
    "            pred_y = model(x)\n",
    "            pred_y = torch.sigmoid(pred_y)\n",
    "            total_time = time.time() - start_time\n",
    "            time_taken.append(total_time)\n",
    "\n",
    "\n",
    "            score = calculate_metrics(y, pred_y)\n",
    "            metrics_score = list(map(add, metrics_score, score))\n",
    "            pred_y = pred_y[0].cpu().numpy()        ## (1, 512, 512)\n",
    "            pred_y = np.squeeze(pred_y, axis=0)     ## (512, 512)\n",
    "            pred_y = pred_y > 0.5\n",
    "            pred_y = np.array(pred_y, dtype=np.uint8)\n",
    "\n",
    "        \"\"\" Saving masks \"\"\"\n",
    "        ori_mask = mask_parse(mask)\n",
    "        pred_y = mask_parse(pred_y)\n",
    "        line = np.ones((size[1], 10, 3)) * 128\n",
    "\n",
    "        cat_images = np.concatenate(\n",
    "            [image, line, ori_mask, line, pred_y * 255], axis=1\n",
    "        )\n",
    "        # Getting the current working directory\n",
    "        current_directory = os.getcwd()\n",
    "\n",
    "        result_dir = os.path.join(current_directory, \"results\")\n",
    "\n",
    "# Check and create the directory if it doesn't exist\n",
    "        if not os.path.exists(result_dir):\n",
    "         os.makedirs(result_dir)\n",
    "\n",
    "\n",
    "\n",
    "        save_path = os.path.join(result_dir, f\"{name}.png\")\n",
    "        print(\"Saving image to:\", save_path)\n",
    "\n",
    "        success = cv2.imwrite(save_path, cat_images)\n",
    "\n",
    "        if success:\n",
    "            \n",
    "            print(\"Image saved successfully!\")\n",
    "        else:\n",
    "            print(\"Failed to save the image.\")\n",
    "       \n",
    "        \n",
    "        \n",
    "        \n",
    "        \n",
    "\n",
    "    jaccard = metrics_score[0]/len(test_x)\n",
    "    f1 = metrics_score[1]/len(test_x)\n",
    "    recall = metrics_score[2]/len(test_x)\n",
    "    precision = metrics_score[3]/len(test_x)\n",
    "    acc = metrics_score[4]/len(test_x)\n",
    "    print(f\"Jaccard: {jaccard:1.4f} - F1: {f1:1.4f} - Recall: {recall:1.4f} - Precision: {precision:1.4f} - Acc: {acc:1.4f}\")\n",
    "\n",
    "    fps = 1/np.mean(time_taken)\n",
    "    print(\"FPS: \", fps)"
   ]
  },
  {
   "cell_type": "code",
   "execution_count": null,
   "id": "4e74205d",
   "metadata": {},
   "outputs": [],
   "source": []
  },
  {
   "cell_type": "code",
   "execution_count": null,
   "id": "632aa3e0",
   "metadata": {},
   "outputs": [],
   "source": []
  }
 ],
 "metadata": {
  "kernelspec": {
   "display_name": "Python 3 (ipykernel)",
   "language": "python",
   "name": "python3"
  },
  "language_info": {
   "codemirror_mode": {
    "name": "ipython",
    "version": 3
   },
   "file_extension": ".py",
   "mimetype": "text/x-python",
   "name": "python",
   "nbconvert_exporter": "python",
   "pygments_lexer": "ipython3",
   "version": "3.9.7"
  }
 },
 "nbformat": 4,
 "nbformat_minor": 5
}
