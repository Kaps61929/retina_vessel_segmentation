{
 "cells": [
  {
   "cell_type": "code",
   "execution_count": 2,
   "id": "8569f4f9",
   "metadata": {
    "scrolled": true
   },
   "outputs": [],
   "source": [
    "import torch\n",
    "import torch.nn as nn"
   ]
  },
  {
   "cell_type": "code",
   "execution_count": 3,
   "id": "53e0c7e6",
   "metadata": {},
   "outputs": [],
   "source": [
    "class conv_block(nn.Module):\n",
    "    def __init__(self, in_c, out_c):\n",
    "        super().__init__()\n",
    "\n",
    "        self.conv = nn.Sequential(\n",
    "            nn.Conv2d(in_c, out_c, kernel_size=3, padding=1),\n",
    "            nn.BatchNorm2d(out_c),\n",
    "            nn.ReLU(inplace=True),\n",
    "            nn.Conv2d(out_c, out_c, kernel_size=3, padding=1),\n",
    "            nn.BatchNorm2d(out_c),\n",
    "            nn.ReLU(inplace=True)\n",
    "        )\n",
    "\n",
    "    def forward(self, x):\n",
    "        return self.conv(x)\n",
    "    "
   ]
  },
  {
   "cell_type": "code",
   "execution_count": 4,
   "id": "966535fd",
   "metadata": {},
   "outputs": [],
   "source": [
    "class encoder_block(nn.Module):\n",
    "    def __init__(self, in_c, out_c):\n",
    "        super().__init__()\n",
    "\n",
    "        self.conv = conv_block(in_c, out_c)\n",
    "        self.pool = nn.MaxPool2d((2, 2))\n",
    "\n",
    "    def forward(self, x):\n",
    "        s = self.conv(x)\n",
    "        p = self.pool(s)\n",
    "        return s, p\n"
   ]
  },
  {
   "cell_type": "code",
   "execution_count": 22,
   "id": "11cb270d",
   "metadata": {},
   "outputs": [],
   "source": [
    "class attention_gate(nn.Module):\n",
    "    def __init__(self, in_c, out_c):\n",
    "        super().__init__()\n",
    "\n",
    "        self.Wg = nn.Sequential(\n",
    "            nn.Conv2d(in_c[0], out_c, kernel_size=3, padding=1),\n",
    "            nn.BatchNorm2d(out_c)\n",
    "        )\n",
    "        self.Ws = nn.Sequential(\n",
    "            nn.Conv2d(in_c[1], out_c, kernel_size=3, padding=1),\n",
    "            nn.BatchNorm2d(out_c)\n",
    "        )\n",
    "        self.Wv = nn.Sequential(\n",
    "            nn.Conv2d(in_c[0]+in_c[1], out_c, kernel_size=3, padding=1),\n",
    "            nn.BatchNorm2d(out_c)\n",
    "        )\n",
    "        self.up = nn.Upsample(scale_factor=2, mode=\"bilinear\", align_corners=True)\n",
    "        self.pool = nn.MaxPool2d((2, 2))\n",
    "        self.relu = nn.ReLU(inplace=True)\n",
    "        self.output = nn.Sequential(\n",
    "            nn.Conv2d(out_c, out_c, kernel_size=1, padding=0),\n",
    "            nn.Sigmoid()\n",
    "        )\n",
    "\n",
    "    def forward(self, g, s):\n",
    "        q = self.Wg(g)\n",
    "        k = self.Ws(s)\n",
    "        \n",
    "       \n",
    "        \n",
    "        print(q.shape)\n",
    "        print(k.shape)\n",
    "        out = self.relu(k*q)\n",
    "        out = self.output(out)\n",
    "        \n",
    "        \n",
    "        v = torch.cat([g,s], axis=1)\n",
    "        v1=  self.Wv(v)\n",
    "        \n",
    "        result=v1*out+v1\n",
    "        \n",
    "        \n",
    "        return result\n"
   ]
  },
  {
   "cell_type": "code",
   "execution_count": 23,
   "id": "2d49d4b4",
   "metadata": {},
   "outputs": [],
   "source": [
    "class decoder_block(nn.Module):\n",
    "    def __init__(self, in_c, out_c):\n",
    "        super().__init__()\n",
    "\n",
    "        self.up = nn.Upsample(scale_factor=2, mode=\"bilinear\", align_corners=True)\n",
    "        self.ag = attention_gate(in_c, out_c)\n",
    "        self.c1 = conv_block(out_c, out_c)\n",
    "\n",
    "    def forward(self, x, s):\n",
    "        x = self.up(x)\n",
    "        s = self.ag(x, s)\n",
    "        x = self.c1(s)\n",
    "        return x\n"
   ]
  },
  {
   "cell_type": "code",
   "execution_count": 24,
   "id": "f26c667f",
   "metadata": {},
   "outputs": [],
   "source": [
    "class attention_unet(nn.Module):\n",
    "    def __init__(self):\n",
    "        super().__init__()\n",
    "\n",
    "        self.e1 = encoder_block(3,32)\n",
    "        self.e2 = encoder_block(32,64)\n",
    "        \n",
    "        self.b1 = conv_block(64,128)\n",
    "\n",
    "        self.d1 = decoder_block([128,64],64)\n",
    "        self.d2 = decoder_block([64,32],32)\n",
    "       \n",
    "         \n",
    "        self.output1 = nn.Conv2d(32, 3, kernel_size=3, padding=1)\n",
    "        self.finaloutput = nn.Conv2d(3, 1, kernel_size=1, padding=0)\n",
    "        \n",
    "       \n",
    "        \n",
    "\n",
    "    def forward(self, x):\n",
    "        s1, p1 = self.e1(x)\n",
    "        s2, p2 = self.e2(p1)\n",
    "       \n",
    "\n",
    "        b1 = self.b1(p2)\n",
    "\n",
    "        d1 = self.d1(b1, s2)\n",
    "        d2 = self.d2(d1, s1)\n",
    "        \n",
    "\n",
    "        output = self.output1(d2)\n",
    "        output = self.finaloutput(output)\n",
    "        \n",
    "        return output\n"
   ]
  },
  {
   "cell_type": "code",
   "execution_count": 25,
   "id": "f860209d",
   "metadata": {},
   "outputs": [
    {
     "name": "stdout",
     "output_type": "stream",
     "text": [
      "torch.Size([8, 64, 128, 128])\n",
      "torch.Size([8, 64, 128, 128])\n",
      "torch.Size([8, 32, 256, 256])\n",
      "torch.Size([8, 32, 256, 256])\n",
      "torch.Size([8, 1, 256, 256])\n"
     ]
    }
   ],
   "source": [
    "\n",
    "if __name__ == \"__main__\":\n",
    "    x = torch.randn((8, 3, 256, 256)) \n",
    "    model = attention_unet()\n",
    "    output = model(x)\n",
    "    print(output.shape)"
   ]
  },
  {
   "cell_type": "code",
   "execution_count": null,
   "id": "f63bcde3",
   "metadata": {},
   "outputs": [],
   "source": []
  },
  {
   "cell_type": "code",
   "execution_count": null,
   "id": "08b7d291",
   "metadata": {},
   "outputs": [],
   "source": []
  }
 ],
 "metadata": {
  "kernelspec": {
   "display_name": "Python 3 (ipykernel)",
   "language": "python",
   "name": "python3"
  },
  "language_info": {
   "codemirror_mode": {
    "name": "ipython",
    "version": 3
   },
   "file_extension": ".py",
   "mimetype": "text/x-python",
   "name": "python",
   "nbconvert_exporter": "python",
   "pygments_lexer": "ipython3",
   "version": "3.9.7"
  }
 },
 "nbformat": 4,
 "nbformat_minor": 5
}
