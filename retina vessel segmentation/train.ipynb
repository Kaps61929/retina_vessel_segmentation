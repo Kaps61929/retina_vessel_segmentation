{
 "cells": [
  {
   "cell_type": "code",
   "execution_count": 1,
   "id": "bc4a05e0",
   "metadata": {},
   "outputs": [
    {
     "name": "stdout",
     "output_type": "stream",
     "text": [
      "['D:\\\\deeplearning_project\\\\retina vessel segmentation', 'C:\\\\Users\\\\krish\\\\anaconda3\\\\python39.zip', 'C:\\\\Users\\\\krish\\\\anaconda3\\\\DLLs', 'C:\\\\Users\\\\krish\\\\anaconda3\\\\lib', 'C:\\\\Users\\\\krish\\\\anaconda3', '', 'C:\\\\Users\\\\krish\\\\anaconda3\\\\lib\\\\site-packages', 'C:\\\\Users\\\\krish\\\\anaconda3\\\\lib\\\\site-packages\\\\locket-0.2.1-py3.9.egg', 'C:\\\\Users\\\\krish\\\\anaconda3\\\\lib\\\\site-packages\\\\win32', 'C:\\\\Users\\\\krish\\\\anaconda3\\\\lib\\\\site-packages\\\\win32\\\\lib', 'C:\\\\Users\\\\krish\\\\anaconda3\\\\lib\\\\site-packages\\\\Pythonwin', 'C:\\\\Users\\\\krish\\\\anaconda3\\\\lib\\\\site-packages\\\\IPython\\\\extensions', 'C:\\\\Users\\\\krish\\\\.ipython']\n",
      "['D:\\\\deeplearning_project\\\\retina vessel segmentation', 'C:\\\\Users\\\\krish\\\\anaconda3\\\\python39.zip', 'C:\\\\Users\\\\krish\\\\anaconda3\\\\DLLs', 'C:\\\\Users\\\\krish\\\\anaconda3\\\\lib', 'C:\\\\Users\\\\krish\\\\anaconda3', '', 'C:\\\\Users\\\\krish\\\\anaconda3\\\\lib\\\\site-packages', 'C:\\\\Users\\\\krish\\\\anaconda3\\\\lib\\\\site-packages\\\\locket-0.2.1-py3.9.egg', 'C:\\\\Users\\\\krish\\\\anaconda3\\\\lib\\\\site-packages\\\\win32', 'C:\\\\Users\\\\krish\\\\anaconda3\\\\lib\\\\site-packages\\\\win32\\\\lib', 'C:\\\\Users\\\\krish\\\\anaconda3\\\\lib\\\\site-packages\\\\Pythonwin', 'C:\\\\Users\\\\krish\\\\anaconda3\\\\lib\\\\site-packages\\\\IPython\\\\extensions', 'C:\\\\Users\\\\krish\\\\.ipython']\n",
      "['D:\\\\deeplearning_project\\\\retina vessel segmentation', 'C:\\\\Users\\\\krish\\\\anaconda3\\\\python39.zip', 'C:\\\\Users\\\\krish\\\\anaconda3\\\\DLLs', 'C:\\\\Users\\\\krish\\\\anaconda3\\\\lib', 'C:\\\\Users\\\\krish\\\\anaconda3', '', 'C:\\\\Users\\\\krish\\\\anaconda3\\\\lib\\\\site-packages', 'C:\\\\Users\\\\krish\\\\anaconda3\\\\lib\\\\site-packages\\\\locket-0.2.1-py3.9.egg', 'C:\\\\Users\\\\krish\\\\anaconda3\\\\lib\\\\site-packages\\\\win32', 'C:\\\\Users\\\\krish\\\\anaconda3\\\\lib\\\\site-packages\\\\win32\\\\lib', 'C:\\\\Users\\\\krish\\\\anaconda3\\\\lib\\\\site-packages\\\\Pythonwin', 'C:\\\\Users\\\\krish\\\\anaconda3\\\\lib\\\\site-packages\\\\IPython\\\\extensions', 'C:\\\\Users\\\\krish\\\\.ipython']\n",
      "['D:\\\\deeplearning_project\\\\retina vessel segmentation', 'C:\\\\Users\\\\krish\\\\anaconda3\\\\python39.zip', 'C:\\\\Users\\\\krish\\\\anaconda3\\\\DLLs', 'C:\\\\Users\\\\krish\\\\anaconda3\\\\lib', 'C:\\\\Users\\\\krish\\\\anaconda3', '', 'C:\\\\Users\\\\krish\\\\anaconda3\\\\lib\\\\site-packages', 'C:\\\\Users\\\\krish\\\\anaconda3\\\\lib\\\\site-packages\\\\locket-0.2.1-py3.9.egg', 'C:\\\\Users\\\\krish\\\\anaconda3\\\\lib\\\\site-packages\\\\win32', 'C:\\\\Users\\\\krish\\\\anaconda3\\\\lib\\\\site-packages\\\\win32\\\\lib', 'C:\\\\Users\\\\krish\\\\anaconda3\\\\lib\\\\site-packages\\\\Pythonwin', 'C:\\\\Users\\\\krish\\\\anaconda3\\\\lib\\\\site-packages\\\\IPython\\\\extensions', 'C:\\\\Users\\\\krish\\\\.ipython']\n",
      "torch.Size([8, 64, 128, 128])\n",
      "torch.Size([8, 64, 128, 128])\n",
      "torch.Size([8, 64, 128, 128])\n",
      "torch.Size([8, 64, 128, 128])\n",
      "torch.Size([8, 32, 256, 256])\n",
      "torch.Size([8, 32, 256, 256])\n",
      "torch.Size([8, 32, 256, 256])\n",
      "torch.Size([8, 32, 256, 256])\n",
      "torch.Size([8, 1, 256, 256])\n",
      "torch.Size([8, 1, 256, 256])\n"
     ]
    }
   ],
   "source": [
    "import sys\n",
    "print(sys.path)\n",
    "%run ./data.ipynb\n",
    "%run ./model.ipynb\n",
    "%run ./loss.ipynb\n",
    "%run ./utils.ipynb\n",
    "\n",
    "\n"
   ]
  },
  {
   "cell_type": "code",
   "execution_count": null,
   "id": "062e1848",
   "metadata": {},
   "outputs": [],
   "source": []
  },
  {
   "cell_type": "code",
   "execution_count": 4,
   "id": "1ca3af86",
   "metadata": {},
   "outputs": [],
   "source": [
    "import os\n",
    "import time\n",
    "from glob import glob\n",
    "\n",
    "import torch\n",
    "from torch.utils.data import DataLoader\n",
    "import torch.nn as nn\n",
    "from torchvision.transforms import ToTensor\n",
    "\n",
    "# # from data import DriveDataset\n",
    "# from model import attention_unet\n",
    "# from loss import DiceLoss, DiceBCELoss\n",
    "# from utils import seeding, create_dir, epoch_time\n",
    "\n",
    "\n"
   ]
  },
  {
   "cell_type": "code",
   "execution_count": 5,
   "id": "a89dc3aa",
   "metadata": {},
   "outputs": [],
   "source": [
    "def train(model, loader, optimizer, loss_fn, device):\n",
    "    epoch_loss = 0.0\n",
    "\n",
    "    model.train()\n",
    "    for x, y in loader:\n",
    "        x, y = x.to(device), y.to(device)\n",
    "\n",
    "        optimizer.zero_grad()\n",
    "        y_pred = model(x)\n",
    "        loss = loss_fn(y_pred, y)\n",
    "        loss.backward()\n",
    "        optimizer.step()\n",
    "        epoch_loss += loss.item()\n",
    "\n",
    "    return epoch_loss / len(loader)\n",
    "\n",
    "def evaluate(model, loader, loss_fn, device):\n",
    "    epoch_loss = 0.0\n",
    "\n",
    "    model.eval()\n",
    "    with torch.no_grad():\n",
    "        for x, y in loader:\n",
    "            x, y = x.to(device), y.to(device)\n",
    "\n",
    "            y_pred = model(x)\n",
    "            loss = loss_fn(y_pred, y)\n",
    "            epoch_loss += loss.item()\n",
    "\n",
    "    return epoch_loss / len(loader)\n"
   ]
  },
  {
   "cell_type": "code",
   "execution_count": null,
   "id": "cb797519",
   "metadata": {
    "scrolled": true
   },
   "outputs": [],
   "source": [
    "# Seeding\n",
    "seeding(42)\n",
    "\n",
    "# Directories\n",
    "create_dir(\"files\")\n",
    "\n",
    "# Load dataset\n",
    "train_x = sorted(glob(\"./Data1/train/image/*\"))\n",
    "train_y = sorted(glob(\"./Data1/train/mask/*\"))\n",
    "valid_x = sorted(glob(\"./Data1/test/image/*\"))\n",
    "valid_y = sorted(glob(\"./Data1/test/mask/*\"))\n",
    "\n",
    "data_str = f\"Dataset Size:\\nTrain: {len(train_x)} - Valid: {len(valid_x)}\\n\"\n",
    "print(data_str)\n",
    "\n",
    "# Hyperparameters\n",
    "H = 512\n",
    "W = 512\n",
    "size = (H, W)\n",
    "batch_size = 2\n",
    "num_epochs = 10\n",
    "lr = 1e-4\n",
    "checkpoint_path = \"files/checkpoint.pth\"\n",
    "\n",
    "# Dataset and loader\n",
    "train_dataset = DriveDataset(train_x, train_y)\n",
    "valid_dataset = DriveDataset(valid_x, valid_y)\n",
    "\n",
    "train_loader = DataLoader(train_dataset, batch_size=batch_size, shuffle=True)\n",
    "valid_loader = DataLoader(valid_dataset, batch_size=batch_size, shuffle=False)\n",
    "\n",
    "device = torch.device('cuda' if torch.cuda.is_available() else 'cpu')\n",
    "model = attention_unet().to(device)\n",
    "optimizer = torch.optim.Adam(model.parameters(), lr=lr)\n",
    "loss_fn = DiceBCELoss()  # Use an appropriate loss function for your task\n",
    "\n",
    "# Training the model\n",
    "best_valid_loss = float(\"inf\")\n",
    "for epoch in range(num_epochs):\n",
    "    start_time = time.time()\n",
    "\n",
    "    train_loss = train(model, train_loader, optimizer, loss_fn, device)\n",
    "    valid_loss = evaluate(model, valid_loader, loss_fn, device)\n",
    "\n",
    "    if valid_loss < best_valid_loss:\n",
    "        best_valid_loss = valid_loss\n",
    "        torch.save(model.state_dict(), checkpoint_path)\n",
    "\n",
    "    end_time = time.time()\n",
    "    epoch_mins, epoch_secs = divmod(end_time - start_time, 60)\n",
    "\n",
    "    data_str = f'Epoch: {epoch+1:02} | Epoch Time: {epoch_mins}m {epoch_secs:.2f}s\\n'\n",
    "    data_str += f'\\tTrain Loss: {train_loss:.3f}\\n'\n",
    "    data_str += f'\\tVal. Loss: {valid_loss:.3f}\\n'\n",
    "    print(data_str)\n"
   ]
  },
  {
   "cell_type": "code",
   "execution_count": null,
   "id": "9ebe69f1",
   "metadata": {},
   "outputs": [],
   "source": []
  }
 ],
 "metadata": {
  "kernelspec": {
   "display_name": "Python 3 (ipykernel)",
   "language": "python",
   "name": "python3"
  },
  "language_info": {
   "codemirror_mode": {
    "name": "ipython",
    "version": 3
   },
   "file_extension": ".py",
   "mimetype": "text/x-python",
   "name": "python",
   "nbconvert_exporter": "python",
   "pygments_lexer": "ipython3",
   "version": "3.9.7"
  }
 },
 "nbformat": 4,
 "nbformat_minor": 5
}
